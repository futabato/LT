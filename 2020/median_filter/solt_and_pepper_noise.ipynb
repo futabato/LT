{
  "nbformat": 4,
  "nbformat_minor": 0,
  "metadata": {
    "colab": {
      "name": "ごま塩",
      "provenance": [],
      "authorship_tag": "ABX9TyNJbPdFpcSULJWTDZGHus4B",
      "include_colab_link": true
    },
    "kernelspec": {
      "name": "python3",
      "display_name": "Python 3"
    }
  },
  "cells": [
    {
      "cell_type": "markdown",
      "metadata": {
        "id": "view-in-github",
        "colab_type": "text"
      },
      "source": [
        "<a href=\"https://colab.research.google.com/github/futabato/median_filter/blob/master/%E3%81%94%E3%81%BE%E5%A1%A9.ipynb\" target=\"_parent\"><img src=\"https://colab.research.google.com/assets/colab-badge.svg\" alt=\"Open In Colab\"/></a>"
      ]
    },
    {
      "cell_type": "code",
      "metadata": {
        "id": "HPOf72N5A81W",
        "colab_type": "code",
        "colab": {
          "base_uri": "https://localhost:8080/",
          "height": 34
        },
        "outputId": "59f3eddc-a4c2-4b42-c08b-d86dbcd3a50a"
      },
      "source": [
        "#-*- coding:utf-8 -*-\n",
        "import cv2\n",
        "import numpy as np\n",
        "\n",
        "# 入力画像をグレースケールで読み込み\n",
        "src = cv2.imread(\n",
        "    \"./drive/My Drive/salt_and_pepper_noise.png\", 0)\n",
        "\n",
        "dst = cv2.medianBlur(src, ksize=5)\n",
        "\n",
        "# 結果を出力\n",
        "cv2.imwrite(\"./drive/My Drive/median_5.png\", dst)"
      ],
      "execution_count": 1,
      "outputs": [
        {
          "output_type": "execute_result",
          "data": {
            "text/plain": [
              "True"
            ]
          },
          "metadata": {
            "tags": []
          },
          "execution_count": 1
        }
      ]
    },
    {
      "cell_type": "code",
      "metadata": {
        "id": "H1_45KkCbOzD",
        "colab_type": "code",
        "colab": {}
      },
      "source": [
        ""
      ],
      "execution_count": 0,
      "outputs": []
    }
  ]
}